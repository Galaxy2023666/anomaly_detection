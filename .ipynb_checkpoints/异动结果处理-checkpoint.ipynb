{
 "cells": [
  {
   "cell_type": "code",
   "execution_count": 1,
   "id": "351dbfe6",
   "metadata": {},
   "outputs": [],
   "source": [
    "import pandas as pd\n",
    "import numpy as np\n",
    "import warnings\n",
    "warnings.filterwarnings('ignore')"
   ]
  },
  {
   "cell_type": "code",
   "execution_count": 9,
   "id": "48efba54",
   "metadata": {},
   "outputs": [],
   "source": [
    "year_mo = ['2019-01', '2019-02', '2019-03',\n",
    "       '2019-04', '2019-05', '2019-06', '2019-07', '2019-08', '2019-09',\n",
    "       '2019-10', '2019-11', '2019-12', '2020-01', '2020-02', '2020-03',\n",
    "       '2020-04', '2020-05', '2020-06', '2020-07', '2020-08', '2020-09',\n",
    "       '2020-10', '2020-11', '2020-12', '2021-01', '2021-02', '2021-03',\n",
    "       '2021-04', '2021-05', '2021-06', '2021-07', '2021-08', '2021-09',\n",
    "       '2021-10', '2021-11', '2021-12', '2022-01', '2022-02', '2022-03',\n",
    "       '2022-04', '2022-05', '2022-06', '2022-07', '2022-08', '2022-09',\n",
    "       '2022-10', '2022-11', '2022-12', '2023-01', '2023-02', '2023-03',\n",
    "       '2023-04', '2023-05', '2023-06', '2023-07', '2023-08', '2023-09', '2023-10', '2023-11']\n",
    "\n",
    "def yingshe_b(x):\n",
    "    if int(x[:2]) ==0:\n",
    "        return '美团'\n",
    "    if int(x[:2]) <=12:\n",
    "        return '到店事业群'\n",
    "    if int(x[:2]) <=21:\n",
    "        return '到家事业群'    \n",
    "    if int(x[:2]) ==22:\n",
    "        return '优选事业部'  \n",
    "    if int(x[:2]) ==23:\n",
    "        return '快驴事业部'  \n",
    "    if int(x[:2]) ==24:\n",
    "        return '买菜事业部'\n",
    "    if int(x[:2]) ==25:\n",
    "        return '骑行事业部'\n",
    "    if int(x[:2]) ==26:\n",
    "        return '自动车配送部'\n",
    "    if int(x[:2]) ==27:\n",
    "        return '金融服务平台'\n",
    "    if int(x[:2]) ==28:\n",
    "        return '点评事业部'\n",
    "    if int(x[:2]) <=32:\n",
    "        return '美团平台'\n",
    "    if int(x[:2]) ==33:\n",
    "        return '基础研发平台'\n",
    "    if int(x[:2]) ==34:\n",
    "        return '公司事务平台'\n",
    "    if int(x[:2]) ==35:\n",
    "        return '人力资源'\n",
    "    if int(x[:2]) ==36:\n",
    "        return '财务平台'\n",
    "    if int(x[:2]) ==37:\n",
    "        return '战略与投资平台'\n",
    "    if int(x[:2])  == 38:\n",
    "        return '总办'"
   ]
  },
  {
   "cell_type": "code",
   "execution_count": 4,
   "id": "10c24b67",
   "metadata": {},
   "outputs": [],
   "source": [
    "cluster = pd.read_csv('./11月整理/异动结果/cluster-20231206.csv')\n",
    "cluster_std = pd.read_csv('./11月整理/异动结果/202311cluster_index_std.csv')\n",
    "cluster_count = pd.read_csv('./11月整理/异动结果/202311cluster_index_count.csv')\n",
    "anormaly = pd.read_csv('./11月整理/异动结果/rresult_mbr2023-11.csv')\n",
    "df = pd.read_excel('./指标信息映射.xlsx')"
   ]
  },
  {
   "cell_type": "code",
   "execution_count": 5,
   "id": "551f763c",
   "metadata": {},
   "outputs": [
    {
     "data": {
      "text/plain": [
       "Index(['指标名称', 'by BG/平台', 'by序列分类', '维度', 'value', 'Month', 'is_zeros',\n",
       "       'is_na', 'resid', 'low', 'high', 'anomaly_esd_prophet',\n",
       "       'anomaly_esd_stl', 'anomaly_xmr', 'anomaly_pca', 'is_anomaly_prophet',\n",
       "       'is_anomaly_stl', 'is_anomaly_xmr', 'is_anomaly_pca', 'model_score'],\n",
       "      dtype='object')"
      ]
     },
     "execution_count": 5,
     "metadata": {},
     "output_type": "execute_result"
    }
   ],
   "source": [
    "anormaly.columns"
   ]
  },
  {
   "cell_type": "code",
   "execution_count": 7,
   "id": "e6057dd9",
   "metadata": {},
   "outputs": [],
   "source": [
    "# 异动模型结果有重复值，需要先去重\n",
    "anormaly  = anormaly[~anormaly['指标名称'].isna()]\n",
    "anormaly = anormaly.drop_duplicates()"
   ]
  },
  {
   "cell_type": "code",
   "execution_count": 8,
   "id": "05dc015a",
   "metadata": {},
   "outputs": [
    {
     "data": {
      "text/plain": [
       "(737559, 20)"
      ]
     },
     "execution_count": 8,
     "metadata": {},
     "output_type": "execute_result"
    }
   ],
   "source": [
    "anormaly.shape"
   ]
  },
  {
   "cell_type": "code",
   "execution_count": 10,
   "id": "882b39d8",
   "metadata": {},
   "outputs": [],
   "source": [
    "last_last_month = anormaly[anormaly['Month'] == year_mo[-3]+'-01']\n",
    "last_month = anormaly[anormaly['Month'] == year_mo[-2]+'-01']\n",
    "this_month = anormaly[anormaly['Month'] == year_mo[-1]+'-01']\n",
    "\n",
    "\n",
    "last_last_month['是否异动1'] = last_last_month['model_score'].apply(lambda x:1 if x>0 else 0)\n",
    "last_month['是否异动1'] = last_month['model_score'].apply(lambda x:1 if x>0 else 0)\n",
    "this_month['是否异动1'] = this_month['model_score'].apply(lambda x:1 if x>0 else 0)\n",
    "\n",
    "last_last_month['是否异动'] = last_last_month['model_score'].apply(lambda x:'是' if x>0 else '否')\n",
    "last_month['是否异动'] = last_month['model_score'].apply(lambda x:'是' if x>0 else '否')\n",
    "this_month['是否异动'] = this_month['model_score'].apply(lambda x:'是' if x>0 else '否')\n",
    "\n",
    "\n",
    "last_last_month_result = last_last_month.groupby(['指标名称']).agg({'是否异动1':'sum','维度':'count'}).reset_index()\n",
    "last_last_month_result['异动占比'] = last_last_month_result['是否异动1']/last_last_month_result['维度']\n",
    "\n",
    "last_month_result = last_month.groupby(['指标名称']).agg({'是否异动1':'sum','维度':'count'}).reset_index()\n",
    "last_month_result['异动占比'] = last_month_result['是否异动1']/last_month_result['维度']\n",
    "\n",
    "this_month_result = this_month.groupby(['指标名称']).agg({'是否异动1':'sum','维度':'count'}).reset_index()\n",
    "this_month_result['异动占比'] = this_month_result['是否异动1']/this_month_result['维度']"
   ]
  },
  {
   "cell_type": "code",
   "execution_count": 11,
   "id": "a68e8b44",
   "metadata": {},
   "outputs": [],
   "source": [
    "#整合后进异动模型的表3\n",
    "df_babp = pd.read_excel('./11月整理/MBR-表3.xlsx')\n",
    "\n",
    "\n",
    "cols = [ '指标名称', 'by BG/平台', 'by序列分类', '维度','2022-01',\n",
    "       '2022-02', '2022-03', '2022-04', '2022-05', '2022-06', '2022-07',\n",
    "       '2022-08', '2022-09', '2022-10', '2022-11', '2022-12', '2023-01',\n",
    "       '2023-02', '2023-03', '2023-04', '2023-05', '2023-06', '2023-07',\n",
    "       '2023-08', '2023-09', '2023-10', '2023-11']\n",
    "df_babp = df_babp[df_babp['by BG/平台'] != '未知']\n",
    "\n",
    "df_babp['year_mo'] = '2023_11' # 这一行每个月需要更改一下\n",
    "\n",
    "df_babp['source'] = ''\n",
    "\n",
    "cols = ['year_mo', '指标名称', 'by BG/平台', 'by序列分类', '维度','source','2022-01',\n",
    "       '2022-02', '2022-03', '2022-04', '2022-05', '2022-06', '2022-07',\n",
    "       '2022-08', '2022-09', '2022-10', '2022-11', '2022-12', '2023-01',\n",
    "       '2023-02', '2023-03', '2023-04', '2023-05', '2023-06', '2023-07',\n",
    "       '2023-08', '2023-09', '2023-10', '2023-11']\n",
    "\n",
    "df_babp = df_babp[cols]"
   ]
  },
  {
   "cell_type": "code",
   "execution_count": 12,
   "id": "b167bcb3",
   "metadata": {},
   "outputs": [],
   "source": [
    "# df_babp = pd.merge(left=df_babp,right =last_month,how = 'left'\n",
    "#                    ,left_on=['指标名称_y','by BG/平台','by序列分类']\n",
    "#                    ,right_on=['指标名称_y','by BG/平台','by序列分类'],suffixes = ('','02') )\n",
    "anomaly_cols = ['指标名称', 'by BG/平台', 'by序列分类','是否异动1', 'model_score']\n",
    "\n",
    "#拼接这个月是否异动的信息\n",
    "df_babp = pd.merge(left=df_babp,right =this_month[anomaly_cols],how = 'left'\n",
    "                   ,left_on=['指标名称','by BG/平台','by序列分类']\n",
    "                   ,right_on=['指标名称','by BG/平台','by序列分类'],suffixes = ('','_thismonth'))\n",
    "\n",
    "#生成上传表中的一个字段\n",
    "df_babp['b_02_dept_name'] = df_babp['by BG/平台'].apply(lambda x: yingshe_b(x))"
   ]
  },
  {
   "cell_type": "code",
   "execution_count": 13,
   "id": "7e6c8b12",
   "metadata": {},
   "outputs": [],
   "source": [
    "#拼接指标的聚类信息\n",
    "df_babp = pd.merge(left=df_babp,right =cluster,how = 'left'\n",
    "                   ,left_on=['指标名称','by BG/平台','by序列分类']\n",
    "                   ,right_on=['指标名称','by BG/平台','by序列分类'],suffixes = ('','_thismonth_cluster') )\n",
    "\n",
    "#拼接指标的方差信息\n",
    "df_babp = pd.merge(left=df_babp,right =cluster_std,how = 'left'\n",
    "                   ,left_on=['指标名称']\n",
    "                   ,right_on=['指标名称'],suffixes = ('','_thismonth_clusterstd') )"
   ]
  },
  {
   "cell_type": "code",
   "execution_count": 14,
   "id": "5990ccfb",
   "metadata": {},
   "outputs": [],
   "source": [
    "# df_babp = pd.merge(left =df_babp\n",
    "#                    ,right = last_last_month_result,how = 'left'\n",
    "#                    ,left_on=['指标名称']\n",
    "#                    ,right_on=['指标名称'],suffixes = ('','02'))\n",
    "\n",
    "#拼接上个月异动占比\n",
    "df_babp = pd.merge(left =df_babp\n",
    "                   ,right = last_month_result,how = 'left'\n",
    "                   ,left_on=['指标名称']\n",
    "                   ,right_on=['指标名称'],suffixes = ('','last_month_rate'))\n",
    "\n",
    "#拼接这个月异动占比\n",
    "df_babp = pd.merge(left =df_babp\n",
    "                   ,right = this_month_result,how = 'left'\n",
    "                   ,left_on=['指标名称']\n",
    "                   ,right_on=['指标名称'],suffixes = ('','this_month_rate'))\n",
    "\n",
    "#拼接上上月异动占比\n",
    "df_babp = pd.merge(left =df_babp\n",
    "                   ,right = last_last_month_result,how = 'left'\n",
    "                   ,left_on=['指标名称']\n",
    "                   ,right_on=['指标名称'],suffixes = ('','last_last_month_rate'))"
   ]
  },
  {
   "cell_type": "code",
   "execution_count": 15,
   "id": "f2452d8e",
   "metadata": {},
   "outputs": [],
   "source": [
    "# df_babp = pd.merge(left=df_babp,right =last_month,how = 'left'\n",
    "#                    ,left_on=['指标名称_y','by BG/平台','by序列分类']\n",
    "#                    ,right_on=['指标名称_y','by BG/平台','by序列分类'],suffixes = ('','02') )\n",
    "anomaly_cols = ['指标名称', 'by BG/平台', 'by序列分类','是否异动', 'model_score']\n",
    "\n",
    "#拼接这个月是否异动的信息\n",
    "df_babp = pd.merge(left=df_babp,right =this_month[anomaly_cols],how = 'left'\n",
    "                   ,left_on=['指标名称','by BG/平台','by序列分类']\n",
    "                   ,right_on=['指标名称','by BG/平台','by序列分类'],suffixes = ('','_thismonth'))\n",
    "\n",
    "#拼接上个月是否异动的信息\n",
    "df_babp = pd.merge(left=df_babp,right =last_month[anomaly_cols],how = 'left'\n",
    "                   ,left_on=['指标名称','by BG/平台','by序列分类']\n",
    "                   ,right_on=['指标名称','by BG/平台','by序列分类'],suffixes = ('','_lastmonth'))\n",
    "\n",
    "#拼接上上个月是否异动的信息\n",
    "df_babp = pd.merge(left=df_babp,right =last_last_month[anomaly_cols],how = 'left'\n",
    "                   ,left_on=['指标名称','by BG/平台','by序列分类']\n",
    "                   ,right_on=['指标名称','by BG/平台','by序列分类'],suffixes = ('','_lastlastmonth'))\n",
    "\n"
   ]
  },
  {
   "cell_type": "code",
   "execution_count": 16,
   "id": "09edcabc",
   "metadata": {},
   "outputs": [],
   "source": [
    "# 计算是否连续三个月异动\n",
    "df_babp['是否连续三个月异动'] = df_babp[['是否异动','是否异动_lastmonth','是否异动_lastlastmonth']].apply(\n",
    "    lambda x:'是' if x[0] == '是' and x[1] == '是' and x[2] == '是' else '否',axis = 1)\n",
    "\n",
    "# 计算是否连续两个月异动\n",
    "df_babp['是否连续两个月异动'] = df_babp[['是否异动','是否异动_lastmonth']].apply(\n",
    "    lambda x:'是' if x[0] == '是' and x[1] == '是'  else '否',axis = 1)"
   ]
  },
  {
   "cell_type": "code",
   "execution_count": 19,
   "id": "46b01006",
   "metadata": {},
   "outputs": [],
   "source": [
    "# df_babp.to_excel('./BABP.xlsx')\n",
    "df_babp.to_excel('./11月整理/11月上传BABP-V4.xlsx',index= False)"
   ]
  },
  {
   "cell_type": "code",
   "execution_count": 18,
   "id": "111e0074",
   "metadata": {},
   "outputs": [
    {
     "data": {
      "text/plain": [
       "Index(['指标名称', 'by BG/平台', 'by序列分类', '维度', '2022-01', '2022-02', '2022-03',\n",
       "       '2022-04', '2022-05', '2022-06', '2022-07', '2022-08', '2022-09',\n",
       "       '2022-10', '2022-11', '2022-12', '2023-01', '2023-02', '2023-03',\n",
       "       '2023-04', '2023-05', '2023-06', '2023-07', '2023-08', '2023-09',\n",
       "       '2023-10', '2023-11', '是否异动1', 'model_score', 'b_02_dept_name',\n",
       "       '维度_thismonth_cluster', 'cluster_id', 'count', '是否异动1last_month_rate',\n",
       "       '维度last_month_rate', '异动占比', '是否异动1this_month_rate',\n",
       "       '维度this_month_rate', '异动占比this_month_rate', '是否异动1last_last_month_rate',\n",
       "       '维度last_last_month_rate', '异动占比last_last_month_rate', '是否异动',\n",
       "       'model_score_thismonth', '是否异动_lastmonth', 'model_score_lastmonth',\n",
       "       '是否异动_lastlastmonth', 'model_score_lastlastmonth', '是否连续三个月异动',\n",
       "       '是否连续两个月异动'],\n",
       "      dtype='object')"
      ]
     },
     "execution_count": 18,
     "metadata": {},
     "output_type": "execute_result"
    }
   ],
   "source": [
    "df_babp.columns"
   ]
  },
  {
   "cell_type": "code",
   "execution_count": null,
   "id": "1d342d0c",
   "metadata": {},
   "outputs": [],
   "source": []
  }
 ],
 "metadata": {
  "kernelspec": {
   "display_name": "Python 3 (ipykernel)",
   "language": "python",
   "name": "python3"
  },
  "language_info": {
   "codemirror_mode": {
    "name": "ipython",
    "version": 3
   },
   "file_extension": ".py",
   "mimetype": "text/x-python",
   "name": "python",
   "nbconvert_exporter": "python",
   "pygments_lexer": "ipython3",
   "version": "3.7.9"
  }
 },
 "nbformat": 4,
 "nbformat_minor": 5
}
